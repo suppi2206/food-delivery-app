{
 "cells": [
  {
   "cell_type": "code",
   "execution_count": 25,
   "id": "b17c9374",
   "metadata": {},
   "outputs": [
    {
     "name": "stdout",
     "output_type": "stream",
     "text": [
      "{'1': {'Name': 'priya', 'dob': '1997', 'height': '5.6', 'city': ' ongole', 'state': 'andhara pradesh'}, '2': {'Name': 'mouni', 'dob': '1998', 'height': '5.4', 'city': ' kurnool', 'state': 'telangana'}, '3': {'Name': 'sai', 'dob': '1999', 'height': '5.5', 'city': ' vijayawada', 'state': 'andhara pradesh'}, '4': {'Name': 'harsha', 'dob': '1995', 'height': '5.8', 'city': ' chimakurthy', 'state': 'telangana'}, '5': {'Name': 'suppi', 'dob': '1994', 'height': '5.2', 'city': 'ongole', 'state': 'ap'}}\n"
     ]
    }
   ],
   "source": [
    "import json\n",
    "employee={1:{\"Name\":\"priya\",\"dob\":\"1997\",\"height\":\"5.6\",\"city\":\" ongole\",\"state\":\"andhara pradesh\"},\n",
    "          2:{\"Name\":\"mouni\",\"dob\":\"1998\",\"height\":\"5.4\",\"city\":\" kurnool\",\"state\":\"telangana\"},\n",
    "          3:{\"Name\":\"sai\",\"dob\":\"1999\",\"height\":\"5.5\",\"city\":\" vijayawada\",\"state\":\"andhara pradesh\"},\n",
    "          4:{\"Name\":\"harsha\",\"dob\":\"1995\",\"height\":\"5.8\",\"city\":\" chimakurthy\",\"state\":\"telangana\"},\n",
    "          5:{\"Name\":\"suppi\",\"dob\":\"1994\",\"height\":\"5.2\",\"city\":\"ongole\",\"state\":\"ap\"}}\n",
    "           \n",
    "with  open('data.json',\"w\") as f:\n",
    "    json.dump(employee,f)\n",
    "with open('data.json',\"r\") as d:\n",
    "    s=json.load(d)\n",
    "    print(s)\n",
    "\n",
    "     \n",
    "\n"
   ]
  },
  {
   "cell_type": "code",
   "execution_count": 38,
   "id": "cc6ce42c",
   "metadata": {},
   "outputs": [
    {
     "name": "stdout",
     "output_type": "stream",
     "text": [
      "{'1': {'andhara pradesh': 'vishakapatnam'}, '2': {'hyderadab': 'telangana'}, '3': {'asam': 'dispur'}, '4': {'bihar': 'patna'}, '5': {'goa': 'panji'}, '6': {'haryana': 'chadigarh'}, '7': {'karnata': 'bangulur'}}\n"
     ]
    }
   ],
   "source": [
    "import json\n",
    "states={1:{\"andhara pradesh\":\"vishakapatnam\"},\n",
    "        2:{\"hyderadab\":\"telangana\"},\n",
    "        3:{\"asam\":\"dispur\"},\n",
    "        4:{\"bihar\":\"patna\"},\n",
    "        5:{\"goa\":\"panji\"},\n",
    "        6:{\"haryana\":\"chadigarh\"},\n",
    "        7:{\"karnata\":\"bangulur\"}}\n",
    "\n",
    "with  open('sai.json',\"w\") as f:\n",
    "    \n",
    "    json.dump(states,f)\n",
    "with open('sai.json',\"r\") as d:\n",
    "    s=json.load(d)\n",
    "    print(s)\n",
    "        \n",
    "        "
   ]
  },
  {
   "cell_type": "code",
   "execution_count": 36,
   "id": "55aa30d0",
   "metadata": {},
   "outputs": [
    {
     "name": "stdout",
     "output_type": "stream",
     "text": [
      "('rollex', 5)\n",
      "brown\n",
      "5\n",
      "11\n"
     ]
    }
   ],
   "source": [
    "class dog:\n",
    "    def __init__(self,name,age,coatcolour):\n",
    "        self.name=name\n",
    "        self.age=age\n",
    "        self.coatcolour=coatcolour\n",
    "    def get_info(self):\n",
    "        return self.name,self.age\n",
    "    def discription(self):\n",
    "        return self.coatcolour\n",
    "class  JackRussellTerrier(dog):\n",
    "    def priya(self):\n",
    "        return 2+3\n",
    "class Bulldog(dog):   \n",
    "    def sai(self):\n",
    "        return 5+6\n",
    "\n",
    "x=dog(\"rollex\",5,\"brown\")\n",
    "print(x.get_info())\n",
    "print(x.discription())\n",
    "y=JackRussellTerrier(\"dony\",6,\"white\")\n",
    "print(y.priya())\n",
    "z=Bulldog(\"robo\",7,\"black\")\n",
    "print(z.sai())\n",
    "  \n",
    "   \n",
    "        "
   ]
  },
  {
   "cell_type": "code",
   "execution_count": null,
   "id": "34fe29bf",
   "metadata": {},
   "outputs": [],
   "source": []
  }
 ],
 "metadata": {
  "kernelspec": {
   "display_name": "Python 3 (ipykernel)",
   "language": "python",
   "name": "python3"
  },
  "language_info": {
   "codemirror_mode": {
    "name": "ipython",
    "version": 3
   },
   "file_extension": ".py",
   "mimetype": "text/x-python",
   "name": "python",
   "nbconvert_exporter": "python",
   "pygments_lexer": "ipython3",
   "version": "3.10.6"
  }
 },
 "nbformat": 4,
 "nbformat_minor": 5
}
